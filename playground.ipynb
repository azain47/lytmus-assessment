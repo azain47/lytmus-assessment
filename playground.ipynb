{
 "cells": [
  {
   "cell_type": "code",
   "execution_count": 1,
   "id": "94fb2125",
   "metadata": {},
   "outputs": [],
   "source": [
    "from google import genai\n",
    "from google.genai import types\n",
    "from openai import OpenAI\n",
    "import os\n",
    "from dotenv import load_dotenv\n",
    "load_dotenv()\n",
    "\n",
    "client = OpenAI(\n",
    "    api_key=os.environ['GEMINI_API_KEY'],\n",
    "    base_url=\"https://generativelanguage.googleapis.com/v1beta/\"\n",
    ")\n",
    "\n",
    "def call_gemini(system_message, user_message, response_schema = None, model=\"gemini-2.5-flash-lite\"):\n",
    "    if response_schema:\n",
    "        response = client.chat.completions.parse(\n",
    "            model = model,\n",
    "            messages = [\n",
    "                {\n",
    "                    \"role\": \"system\",\n",
    "                    \"content\": system_message\n",
    "                },\n",
    "                {\n",
    "                    \"role\": \"user\",\n",
    "                    \"content\": user_message\n",
    "                }\n",
    "            ],\n",
    "            temperature = 0.65,\n",
    "            extra_body={\n",
    "                \n",
    "            },\n",
    "            response_format = response_schema if response_schema else None\n",
    "        ).choices[0].message.parsed    \n",
    "        return response\n",
    "    else:\n",
    "        response = client.chat.completions.create(\n",
    "            model = model,\n",
    "            messages = [\n",
    "                {\n",
    "                    \"role\": \"system\",\n",
    "                    \"content\": system_message\n",
    "                },\n",
    "                {\n",
    "                    \"role\": \"user\",\n",
    "                    \"content\": user_message\n",
    "                }\n",
    "            ],\n",
    "            temperature = 0.65,\n",
    "            extra_body={\n",
    "                \n",
    "            }\n",
    "        ).choices[0].message.content    \n",
    "        return response"
   ]
  },
  {
   "cell_type": "code",
   "execution_count": 16,
   "id": "fd2f895a",
   "metadata": {},
   "outputs": [],
   "source": [
    "import json\n",
    "import numpy as np\n",
    "with open('similar_question_data.json','r') as f:\n",
    "    dataset = json.load(f)"
   ]
  },
  {
   "cell_type": "code",
   "execution_count": 8,
   "id": "f499c898",
   "metadata": {},
   "outputs": [],
   "source": [
    "dataset = np.asarray(dataset)"
   ]
  },
  {
   "cell_type": "code",
   "execution_count": 31,
   "id": "5d5a5faa",
   "metadata": {},
   "outputs": [
    {
     "data": {
      "text/plain": [
       "[{'question_id': '68a2e',\n",
       "  'question_text': 'Find the number of 7 lettered palindromes which can be formed using the letters from the English alphabets.',\n",
       "  'subject': 'Mathematics',\n",
       "  'similar_questions': [{'similar_question_text': '60 words can be made using all the letters of the word $$\\\\mathrm{BHBJO}$$, with or without meaning. If these words are written as in a dictionary, then the $$50^{\\\\text {th }}$$ word is:',\n",
       "    'similarity_score': 0.9665,\n",
       "    'summarized_solution_approach': \"To find the 50th word in the dictionary order of permutations of the letters BHBJO, we first calculate the total permutations, accounting for the repeated 'B'. We then systematically count the words starting with each letter in alphabetical order (B, H, J, O) to determine which starting letter contains the 50th word. After finding that the 50th word starts with 'O', we find the first two permutations starting with 'O' to identify the 50th word.\"},\n",
       "   {'similar_question_text': \"The number of 4 letter words (with or without\\nmeaning) that can be formed from the eleven\\nletters of the word 'EXAMINATION' is\\n_______.\",\n",
       "    'similarity_score': 0.9656,\n",
       "    'summarized_solution_approach': \"The problem requires finding the number of 4-letter words that can be formed from the letters of the word 'EXAMINATION'. The letters available are 2A, 2I, 2N, E, X, M, T, O. There are five possible cases to consider:\\n\\n1.  All four letters are the same: This is not possible since we don't have four of any letter.\\n2.  Three letters are the same, and one is different: This is also not possible since we don't have three of any letter.\\n3.  Two letters are the same, and the other two are different: Choose one letter to repeat from A, I, N (3 options), then choose two letters from the remaining 7 distinct letters. Arrange the 4 letters, accounting for the repetition.  Calculate as 3C1 * 7C2 * (4!/2!) = 756\\n4.  Two pairs of same letters: Choose two letters from A, I, N to form two pairs. Arrange the 4 letters, accounting for the repetition of each pair. Calculate as 3C2 * (4!/(2!2!)) = 18\\n5.  All four letters are different: Choose 4 letters from the 8 distinct letters (A, I, N, E, X, M, T, O) and arrange them. Calculate as 8C4 * 4! = 1680\\n\\nFinally, sum the results from all possible cases: 1680 + 756 + 18 = 2454\"}]},\n",
       " {'question_id': '61df3',\n",
       "  'question_text': 'R त्रिज्या का गोलीय कोश, जिस पर एक समान वितरित आवेश q है, के केन्द्र पर बिन्दु आवेश q₀ है। गोलीय कोश की त्रिज्या धीरेधीरे R से 2R करने में वैद्युत बल द्वारा किये गये कार्य की गणना करो एवं बाह्य कारक द्वारा विद्युत बल के विरुद्ध किये कार्य की भी गणना करो।\\n\\nThe image describes a spherical shell of radius R with a uniformly distributed charge q. At the center of the shell, there is a point charge q₀. The radius of the spherical shell is gradually increased from R to 2R.',\n",
       "  'subject': 'Physics',\n",
       "  'similar_questions': [{'similar_question_text': \"A spherical metal shell A of radius $${R_A}$$ and a solid metal sphere $$B$$ of radius $${R_B}\\\\left( { &lt; {R_A}} \\\\right)$$ are kept far apart and each is given charge $$' + Q'.$$ Now they are connected by a thin metal wire. Then\",\n",
       "    'similarity_score': 0.962,\n",
       "    'summarized_solution_approach': 'When two metal objects are connected by a wire, charge is redistributed until the electric potential on both objects is equal. Because metal A is a shell, the electric field inside is zero. Using the fact that the electric potentials of A and B are equal, the relationship between the charges $$Q_A$$ and $$Q_B$$ can be found. Using the charges and radii, the surface charge densities can be found and compared. Finally, the electric fields on the surface of A and B can be found using the surface charge densities.'},\n",
       "   {'similar_question_text': 'त्रिज्या R के एक ठोस गोले में असमान आवेश घनत्व है जो \\\\( \\\\rho = \\\\rho_0 x \\\\) द्वारा दिया गया है जहाँ x गोले के केंद्र से दूरी है। गोले के अंदर और बाहर एक सामान्य बिंदु पर द्विद्युत क्षेत्र ज्ञात करें। (Optional)',\n",
       "    'similarity_score': 0.9642,\n",
       "    'summarized_solution_approach': \"To find the electric field inside and outside a sphere with a charge density \\\\( \\\\rho = \\\\rho_0 x \\\\), Gauss's Law is applied using spherical Gaussian surfaces. For a point inside the sphere (\\\\( x < R \\\\)), the enclosed charge \\\\( Q_{enc}(x) \\\\) is calculated by integrating the charge density from 0 to x. Gauss's Law is then used to find the electric field \\\\( E_{in} \\\\). For a point outside the sphere (\\\\( x > R \\\\)), the total charge \\\\( Q_{total} \\\\) is calculated by integrating the charge density from 0 to R. Again, Gauss's Law is applied to find the electric field \\\\( E_{out} \\\\).\"}]},\n",
       " {'question_id': 'eb5fb',\n",
       "  'question_text': 'Initially system is at equilibrium, then find acceleration of each block just after cutting.\\n\\nThe diagram shows a system of two blocks suspended vertically. A spring is attached to a fixed support at the top. A 10kg block is connected to the spring at the top and a string at the bottom. A 20kg block is connected to the 10kg block with a string.',\n",
       "  'subject': 'Physics',\n",
       "  'similar_questions': [{'similar_question_text': 'The system shown in the figure is in equilibrium and all the blocks are at rest. Assume that the masses of the strings, the pulley and the spring are negligible w.r.t. the masses of the blocks and friction is absent. Find acceleration of the block C, just after cutting the string 1. (g = 10 m/s²)\\n\\nThe diagram shows a system of three blocks (A, B, and C) connected by strings and a spring. Block C (5kg) rests on a horizontal surface and is connected to a vertical wall by String1 and to Block B (1kg) by String2 via a pulley. Block B (1kg) is connected to Block A (2kg) by a massless spring. The acceleration due to gravity is given as g = 10 m/s^2.',\n",
       "    'similarity_score': 0.9802,\n",
       "    'summarized_solution_approach': \"The approach focuses on finding the acceleration of block C immediately after string 1 is cut. It assumes the extension of the remaining string remains the same. Free body diagrams (FBDs) are drawn for blocks B and C to establish equations of motion. By solving these equations simultaneously, the acceleration 'a' is determined.\"},\n",
       "   {'similar_question_text': 'Two blocks A and B of masses 3 m and m respectively are connected by a mass-less and inextensible string. The whole system is suspended by a mass-less spring as shown in figure. The magnitudes of acceleration of A and B immediately after the string is cut, are respectively:-\\n\\nThe diagram shows two blocks, A and B, with masses 3m and m respectively, connected by a massless and inextensible string. The whole system is suspended by a massless spring. The blocks are aligned vertically, with the spring attached to the top, block A in the middle, and block B at the bottom.',\n",
       "    'similarity_score': 0.9787,\n",
       "    'summarized_solution_approach': \"The problem involves finding the acceleration of two blocks, A and B, immediately after the string connecting them is cut. The approach involves first establishing the force equations before the string is cut to find the value of Kx. After cutting the string (T=0), we calculate the acceleration of block A by considering the forces acting on it (4mg upwards and 3mg downwards) and then calculate the acceleration of block B which is simply 'g' downwards.\"}]},\n",
       " {'question_id': 'e700f',\n",
       "  'question_text': 'Number of odd integers between 1000 and 8000 which have none of their digits repeated, is:',\n",
       "  'subject': 'Mathematics',\n",
       "  'similar_questions': [{'similar_question_text': 'How many numbers lying between 999 and 10000 can be formed with the help of the digit 0, 2, 3, 6, 7, 8 when the digits are not to be repeated',\n",
       "    'similarity_score': 0.9818,\n",
       "    'summarized_solution_approach': 'The problem asks to find the number of four-digit numbers between 999 and 10000 that can be formed using the digits 0, 2, 3, 6, 7, 8 without repetition. First calculate the total number of four-digit numbers that can be formed using the given digits, which is ${ }^{6}P_{4}=360$. Then, subtract the number of four-digit numbers that start with 0, as these are actually three-digit numbers. The number of three-digit numbers that can be formed with 0 as the first digit is ${ }^{5}P_{3}=60$. Therefore, the required number of four-digit numbers is 360 - 60 = 300.'},\n",
       "   {'similar_question_text': 'The number of numbers, strictly between 5000 and 10000 can be formed using the digits 1, 3, 5, 7, 9 without repetition, is :',\n",
       "    'similarity_score': 0.9759,\n",
       "    'summarized_solution_approach': 'The problem asks for the number of 4-digit numbers between 5000 and 10000 that can be formed using the digits 1, 3, 5, 7, 9 without repetition. Since the number must be between 5000 and 10000, the first digit can only be 5, 7, or 9 (3 choices). After choosing the first digit, there are 4 remaining digits to choose from for the second position, then 3 for the third position, and 2 for the last position. Therefore, the total number of such numbers is 3 * 4 * 3 * 2.'}]}]"
      ]
     },
     "execution_count": 31,
     "metadata": {},
     "output_type": "execute_result"
    }
   ],
   "source": [
    "np.random.choice(dataset,4,replace=False).tolist()"
   ]
  },
  {
   "cell_type": "code",
   "execution_count": null,
   "id": "1971ca28",
   "metadata": {},
   "outputs": [],
   "source": [
    "from prompts import \n",
    "from datatypes import RelevanceSimilarity, RelevanceAlignment, EvaluationReport"
   ]
  },
  {
   "cell_type": "code",
   "execution_count": 4,
   "id": "651fef7c",
   "metadata": {},
   "outputs": [
    {
     "name": "stdout",
     "output_type": "stream",
     "text": [
      "माना S = {√n: 1≤ n ≤ 50 तथा n विषम है} माना a ∈ S तथा A = [[1, 0, a], [-1, 1, 0], [-a, 0, 1]] हैं। यदि ∑ det (adj A) = 100λ है, तो λ बराबर है :\n",
      "\n",
      "The image contains a mathematical problem involving a set S, a matrix A, and a summation. The set S is defined as the set of square roots of odd integers n, where n ranges from 1 to 50. A 3x3 matrix A is given, with elements that include a variable 'a' which belongs to the set S. The problem involves calculating the sum of the determinants of the adjugate of matrix A, where 'a' takes on values from the set S. This sum is equated to 100λ, and the task is to find the value of λ.\n",
      "[{'similar_question_text': \"If \\\\(D_{r}=\\\\begin{vmatrix}r & x & \\\\frac{n(n+1)}{2} \\\\\\\\ 2r-1 & y & n^{2} \\\\\\\\ 3r-2 & z & \\\\frac{n(3n-1)}{2}\\\\end{vmatrix}\\\\), then \\\\(\\\\sum_{r=1}^{n} D_{r}\\\\) is equal to :\\n\\nThe image presents a mathematical problem involving a 3x3 determinant denoted as D_r, where the elements of the determinant are expressions involving 'r' and 'n'. The problem asks to find the value of the summation of D_r from r=1 to n.\", 'similarity_score': 0.9743, 'summarized_solution_approach': \"To find the value of the summation of the determinant D_r from r=1 to n, first apply the summation to the first column of the determinant. Then, calculate the sum of each element in the first column using standard summation formulas. Substitute these sums back into the determinant. Finally, recognize that the first and third columns are identical, which means the determinant's value is zero.\"}, {'similar_question_text': 'Let S = {$\\\\sqrt{n}$: 1$\\\\leq$ n $\\\\leq$ 50 and n is odd}\\nLet a $\\\\in$ S and A= $\\\\begin{bmatrix}\\n1 & 0 & a \\\\\\\\\\n-1 & 1 & 0 \\\\\\\\\\n-a & 0 & 1\\n\\\\end{bmatrix}$\\nIf $\\\\sum\\\\limits_{a \\\\in S}$ det(adjA) = 100$\\\\lambda$, then $\\\\lambda$ is equal to', 'similarity_score': 0.9771, 'summarized_solution_approach': \"The solution uses the property det(adjA) = |detA|^{n-1} to simplify the expression. It calculates the determinant of matrix A as 1 + a^2. The set S is defined as the square roots of odd numbers from 1 to 49. The summation is then computed over all elements 'a' in S, where each term is (1 + a^2)^2. This sum is given to be equal to 100$\\\\lambda$, and by calculating the sum, the value of $\\\\lambda$ is determined.\"}]\n"
     ]
    }
   ],
   "source": [
    "ques1 = dataset[325]\n",
    "print(ques1['question_text'])\n",
    "print(ques1['similar_questions'])"
   ]
  },
  {
   "cell_type": "code",
   "execution_count": null,
   "id": "39190c08",
   "metadata": {},
   "outputs": [
    {
     "name": "stdout",
     "output_type": "stream",
     "text": [
      "conceptual_similarity=1.0 structural_similarity=1.0 reasoning='This question is an exact duplicate of the main question. Both questions define the identical set S = {√n: 1≤ n ≤ 50 तथा n विषम है}, the identical matrix A = [[1, 0, a], [-1, 1, 0], [-a, 0, 1]], and ask for the identical summation ∑ det (adj A) = 100λ. Consequently, they test precisely the same underlying concepts, including set definition, matrix determinant calculation, properties of adjugate matrices (det(adj A) = (det A)^(n-1)), and summation over a specified set. Furthermore, they share the exact same problem structure, setup, and logical/mathematical framework, making them completely analogous.'\n"
     ]
    }
   ],
   "source": [
    "formatted_similar_questions = \"\\n\\n\".join([f\"### QUESTION {idx + 1}\\n- {sq['similar_question_text']}\" for idx,sq in enumerate(ques1['similar_questions'])])\n",
    "formatted_system_prompt = relevance_similarity_system_prompt.format(subject = ques1['subject'])\n",
    "formatted_user_prompt = relevance_user_prompt.format(main_question = ques1['question_text'], similar_questions = formatted_similar_questions)\n",
    "print(call_gemini(formatted_system_prompt, formatted_user_prompt, RelevanceSimilarity, model=\"gemini-2.5-flash\"))"
   ]
  },
  {
   "cell_type": "code",
   "execution_count": 6,
   "id": "85ec9fee",
   "metadata": {},
   "outputs": [
    {
     "name": "stdout",
     "output_type": "stream",
     "text": [
      "is_difficulty_appropriate=<AppropriateAlignment.YES: 'YES'> is_solution_approach_viable=<AppropriateAlignment.YES: 'YES'> reasoning=\"For difficulty, both the main question and similar questions involve concepts such as set definition, matrix operations (determinants, adjugate matrix properties), and summation of sequences. These are standard topics taught in high school advanced mathematics or early undergraduate linear algebra (e.g., JEE Advanced level curriculum). They do not require any PhD-level knowledge. Therefore, the difficulty is appropriate for students.For solution approach viability, Solution Approach 2 is perfectly viable as Similar Question 2 is an exact duplicate of the Main Question. This approach correctly identifies and applies the key property det(adj A) = (det A)^(n-1) (where n is the order of the matrix), calculates the determinant of A, correctly identifies the elements of the set S, and outlines the required summation. This method directly solves the Main Question. Solution Approach 1, on the other hand, deals with a different type of summation involving determinants (summing elements within the determinant before evaluation) and does not utilize the crucial adjugate property. Thus, Solution Approach 1 is not directly applicable to the Main Question's structure. However, since Solution Approach 2 is a complete and correct method for the identical problem, the overall viability is YES.\"\n"
     ]
    }
   ],
   "source": [
    "formatted_similar_questions = \"\\n\\n\".join([f\"### QUESTION {idx + 1}\\n- {sq['similar_question_text']}\\n### SOLUTION APPROACH {idx + 1}\\n- {sq['summarized_solution_approach']}\" for idx,sq in enumerate(ques1['similar_questions'])])\n",
    "formatted_system_prompt = relevance_alignment_system_prompt.format(subject = ques1['subject'])\n",
    "formatted_user_prompt = relevance_user_prompt.format(main_question = ques1['question_text'], similar_questions = formatted_similar_questions)\n",
    "print(call_gemini(formatted_system_prompt, formatted_user_prompt, EvaluationReport, model=\"gemini-2.5-flash\"))"
   ]
  }
 ],
 "metadata": {
  "kernelspec": {
   "display_name": ".venv",
   "language": "python",
   "name": "python3"
  },
  "language_info": {
   "codemirror_mode": {
    "name": "ipython",
    "version": 3
   },
   "file_extension": ".py",
   "mimetype": "text/x-python",
   "name": "python",
   "nbconvert_exporter": "python",
   "pygments_lexer": "ipython3",
   "version": "3.13.2"
  }
 },
 "nbformat": 4,
 "nbformat_minor": 5
}
