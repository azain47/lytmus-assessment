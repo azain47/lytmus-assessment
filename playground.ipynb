{
 "cells": [
  {
   "cell_type": "code",
   "execution_count": 1,
   "id": "94fb2125",
   "metadata": {},
   "outputs": [],
   "source": [
    "from google import genai\n",
    "from google.genai import types\n",
    "from openai import OpenAI\n",
    "import os\n",
    "from dotenv import load_dotenv\n",
    "load_dotenv()\n",
    "\n",
    "client = OpenAI(\n",
    "    api_key=os.environ['GEMINI_API_KEY'],\n",
    "    base_url=\"https://generativelanguage.googleapis.com/v1beta/\"\n",
    ")\n",
    "\n",
    "def call_gemini(system_message, user_message, response_schema = None, model=\"gemini-2.5-flash-lite\"):\n",
    "    if response_schema:\n",
    "        response = client.chat.completions.parse(\n",
    "            model = model,\n",
    "            messages = [\n",
    "                {\n",
    "                    \"role\": \"system\",\n",
    "                    \"content\": system_message\n",
    "                },\n",
    "                {\n",
    "                    \"role\": \"user\",\n",
    "                    \"content\": user_message\n",
    "                }\n",
    "            ],\n",
    "            temperature = 0.65,\n",
    "            extra_body={\n",
    "                \n",
    "            },\n",
    "            response_format = response_schema if response_schema else None\n",
    "        ).choices[0].message.parsed    \n",
    "        return response\n",
    "    else:\n",
    "        response = client.chat.completions.create(\n",
    "            model = model,\n",
    "            messages = [\n",
    "                {\n",
    "                    \"role\": \"system\",\n",
    "                    \"content\": system_message\n",
    "                },\n",
    "                {\n",
    "                    \"role\": \"user\",\n",
    "                    \"content\": user_message\n",
    "                }\n",
    "            ],\n",
    "            temperature = 0.65,\n",
    "            extra_body={\n",
    "                \n",
    "            }\n",
    "        ).choices[0].message.content    \n",
    "        return response"
   ]
  },
  {
   "cell_type": "code",
   "execution_count": 2,
   "id": "fd2f895a",
   "metadata": {},
   "outputs": [],
   "source": [
    "import json\n",
    "dataset = {}\n",
    "with open('similar_question_data.json','r') as f:\n",
    "    dataset = json.load(f)"
   ]
  },
  {
   "cell_type": "code",
   "execution_count": null,
   "id": "1971ca28",
   "metadata": {},
   "outputs": [],
   "source": [
    "from prompts import \n",
    "from datatypes import RelevanceSimilarity, RelevanceAlignment, EvaluationReport"
   ]
  },
  {
   "cell_type": "code",
   "execution_count": 4,
   "id": "651fef7c",
   "metadata": {},
   "outputs": [
    {
     "name": "stdout",
     "output_type": "stream",
     "text": [
      "माना S = {√n: 1≤ n ≤ 50 तथा n विषम है} माना a ∈ S तथा A = [[1, 0, a], [-1, 1, 0], [-a, 0, 1]] हैं। यदि ∑ det (adj A) = 100λ है, तो λ बराबर है :\n",
      "\n",
      "The image contains a mathematical problem involving a set S, a matrix A, and a summation. The set S is defined as the set of square roots of odd integers n, where n ranges from 1 to 50. A 3x3 matrix A is given, with elements that include a variable 'a' which belongs to the set S. The problem involves calculating the sum of the determinants of the adjugate of matrix A, where 'a' takes on values from the set S. This sum is equated to 100λ, and the task is to find the value of λ.\n",
      "[{'similar_question_text': \"If \\\\(D_{r}=\\\\begin{vmatrix}r & x & \\\\frac{n(n+1)}{2} \\\\\\\\ 2r-1 & y & n^{2} \\\\\\\\ 3r-2 & z & \\\\frac{n(3n-1)}{2}\\\\end{vmatrix}\\\\), then \\\\(\\\\sum_{r=1}^{n} D_{r}\\\\) is equal to :\\n\\nThe image presents a mathematical problem involving a 3x3 determinant denoted as D_r, where the elements of the determinant are expressions involving 'r' and 'n'. The problem asks to find the value of the summation of D_r from r=1 to n.\", 'similarity_score': 0.9743, 'summarized_solution_approach': \"To find the value of the summation of the determinant D_r from r=1 to n, first apply the summation to the first column of the determinant. Then, calculate the sum of each element in the first column using standard summation formulas. Substitute these sums back into the determinant. Finally, recognize that the first and third columns are identical, which means the determinant's value is zero.\"}, {'similar_question_text': 'Let S = {$\\\\sqrt{n}$: 1$\\\\leq$ n $\\\\leq$ 50 and n is odd}\\nLet a $\\\\in$ S and A= $\\\\begin{bmatrix}\\n1 & 0 & a \\\\\\\\\\n-1 & 1 & 0 \\\\\\\\\\n-a & 0 & 1\\n\\\\end{bmatrix}$\\nIf $\\\\sum\\\\limits_{a \\\\in S}$ det(adjA) = 100$\\\\lambda$, then $\\\\lambda$ is equal to', 'similarity_score': 0.9771, 'summarized_solution_approach': \"The solution uses the property det(adjA) = |detA|^{n-1} to simplify the expression. It calculates the determinant of matrix A as 1 + a^2. The set S is defined as the square roots of odd numbers from 1 to 49. The summation is then computed over all elements 'a' in S, where each term is (1 + a^2)^2. This sum is given to be equal to 100$\\\\lambda$, and by calculating the sum, the value of $\\\\lambda$ is determined.\"}]\n"
     ]
    }
   ],
   "source": [
    "ques1 = dataset[325]\n",
    "print(ques1['question_text'])\n",
    "print(ques1['similar_questions'])"
   ]
  },
  {
   "cell_type": "code",
   "execution_count": null,
   "id": "39190c08",
   "metadata": {},
   "outputs": [
    {
     "name": "stdout",
     "output_type": "stream",
     "text": [
      "conceptual_similarity=1.0 structural_similarity=1.0 reasoning='This question is an exact duplicate of the main question. Both questions define the identical set S = {√n: 1≤ n ≤ 50 तथा n विषम है}, the identical matrix A = [[1, 0, a], [-1, 1, 0], [-a, 0, 1]], and ask for the identical summation ∑ det (adj A) = 100λ. Consequently, they test precisely the same underlying concepts, including set definition, matrix determinant calculation, properties of adjugate matrices (det(adj A) = (det A)^(n-1)), and summation over a specified set. Furthermore, they share the exact same problem structure, setup, and logical/mathematical framework, making them completely analogous.'\n"
     ]
    }
   ],
   "source": [
    "formatted_similar_questions = \"\\n\\n\".join([f\"### QUESTION {idx + 1}\\n- {sq['similar_question_text']}\" for idx,sq in enumerate(ques1['similar_questions'])])\n",
    "formatted_system_prompt = relevance_similarity_system_prompt.format(subject = ques1['subject'])\n",
    "formatted_user_prompt = relevance_user_prompt.format(main_question = ques1['question_text'], similar_questions = formatted_similar_questions)\n",
    "print(call_gemini(formatted_system_prompt, formatted_user_prompt, RelevanceSimilarity, model=\"gemini-2.5-flash\"))"
   ]
  },
  {
   "cell_type": "code",
   "execution_count": 6,
   "id": "85ec9fee",
   "metadata": {},
   "outputs": [
    {
     "name": "stdout",
     "output_type": "stream",
     "text": [
      "is_difficulty_appropriate=<AppropriateAlignment.YES: 'YES'> is_solution_approach_viable=<AppropriateAlignment.YES: 'YES'> reasoning=\"For difficulty, both the main question and similar questions involve concepts such as set definition, matrix operations (determinants, adjugate matrix properties), and summation of sequences. These are standard topics taught in high school advanced mathematics or early undergraduate linear algebra (e.g., JEE Advanced level curriculum). They do not require any PhD-level knowledge. Therefore, the difficulty is appropriate for students.For solution approach viability, Solution Approach 2 is perfectly viable as Similar Question 2 is an exact duplicate of the Main Question. This approach correctly identifies and applies the key property det(adj A) = (det A)^(n-1) (where n is the order of the matrix), calculates the determinant of A, correctly identifies the elements of the set S, and outlines the required summation. This method directly solves the Main Question. Solution Approach 1, on the other hand, deals with a different type of summation involving determinants (summing elements within the determinant before evaluation) and does not utilize the crucial adjugate property. Thus, Solution Approach 1 is not directly applicable to the Main Question's structure. However, since Solution Approach 2 is a complete and correct method for the identical problem, the overall viability is YES.\"\n"
     ]
    }
   ],
   "source": [
    "formatted_similar_questions = \"\\n\\n\".join([f\"### QUESTION {idx + 1}\\n- {sq['similar_question_text']}\\n### SOLUTION APPROACH {idx + 1}\\n- {sq['summarized_solution_approach']}\" for idx,sq in enumerate(ques1['similar_questions'])])\n",
    "formatted_system_prompt = relevance_alignment_system_prompt.format(subject = ques1['subject'])\n",
    "formatted_user_prompt = relevance_user_prompt.format(main_question = ques1['question_text'], similar_questions = formatted_similar_questions)\n",
    "print(call_gemini(formatted_system_prompt, formatted_user_prompt, EvaluationReport, model=\"gemini-2.5-flash\"))"
   ]
  }
 ],
 "metadata": {
  "kernelspec": {
   "display_name": ".venv",
   "language": "python",
   "name": "python3"
  },
  "language_info": {
   "codemirror_mode": {
    "name": "ipython",
    "version": 3
   },
   "file_extension": ".py",
   "mimetype": "text/x-python",
   "name": "python",
   "nbconvert_exporter": "python",
   "pygments_lexer": "ipython3",
   "version": "3.13.2"
  }
 },
 "nbformat": 4,
 "nbformat_minor": 5
}
