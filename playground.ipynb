{
 "cells": [
  {
   "cell_type": "code",
   "execution_count": 1,
   "id": "94fb2125",
   "metadata": {},
   "outputs": [],
   "source": [
    "from google import genai\n",
    "from google.genai import types\n",
    "from openai import OpenAI\n",
    "import os\n",
    "from dotenv import load_dotenv\n",
    "load_dotenv()\n",
    "\n",
    "client = OpenAI(\n",
    "    api_key=os.environ['GEMINI_API_KEY'],\n",
    "    base_url=\"https://generativelanguage.googleapis.com/v1beta/\"\n",
    ")\n",
    "\n",
    "def call_gemini(system_message, user_message, response_schema = None, model=\"gemini-2.5-flash-lite\"):\n",
    "    if response_schema:\n",
    "        response = client.chat.completions.parse(\n",
    "            model = model,\n",
    "            messages = [\n",
    "                {\n",
    "                    \"role\": \"system\",\n",
    "                    \"content\": system_message\n",
    "                },\n",
    "                {\n",
    "                    \"role\": \"user\",\n",
    "                    \"content\": user_message\n",
    "                }\n",
    "            ],\n",
    "            temperature = 0.65,\n",
    "            extra_body={\n",
    "                \n",
    "            },\n",
    "            response_format = response_schema if response_schema else None\n",
    "        ).choices[0].message.parsed    \n",
    "        return response\n",
    "    else:\n",
    "        response = client.chat.completions.create(\n",
    "            model = model,\n",
    "            messages = [\n",
    "                {\n",
    "                    \"role\": \"system\",\n",
    "                    \"content\": system_message\n",
    "                },\n",
    "                {\n",
    "                    \"role\": \"user\",\n",
    "                    \"content\": user_message\n",
    "                }\n",
    "            ],\n",
    "            temperature = 0.65,\n",
    "            extra_body={\n",
    "                \n",
    "            }\n",
    "        ).choices[0].message.content    \n",
    "        return response"
   ]
  },
  {
   "cell_type": "code",
   "execution_count": 39,
   "id": "fd2f895a",
   "metadata": {},
   "outputs": [],
   "source": [
    "import json\n",
    "import numpy as np\n",
    "with open('similar_question_data.json','r') as f:\n",
    "    dataset = json.load(f)"
   ]
  },
  {
   "cell_type": "code",
   "execution_count": 40,
   "id": "e209f4fb",
   "metadata": {},
   "outputs": [],
   "source": [
    "dataset = {item['question_id']: item for item in dataset}"
   ]
  },
  {
   "cell_type": "code",
   "execution_count": 29,
   "id": "6e2e6d82",
   "metadata": {},
   "outputs": [],
   "source": [
    "with open('generated_solutions_w_similar.json','r') as f:\n",
    "    generated_solutions_w_similar = json.load(f)\n",
    "with open('generated_solutions_wo_similar.json','r') as f:\n",
    "    generated_solutions_wo_similar = json.load(f)\n",
    "    \n",
    "generated_solutions_w_similar = {item['question_id']: item for item in generated_solutions_w_similar}\n",
    "generated_solutions_wo_similar = {item['question_id']: item for item in generated_solutions_wo_similar}"
   ]
  },
  {
   "cell_type": "code",
   "execution_count": null,
   "id": "f72750b9",
   "metadata": {},
   "outputs": [],
   "source": [
    "it_to_delete = []\n",
    "for ques_id, data in dataset.items():\n",
    "    if generated_solutions_w_similar.get(ques_id):\n",
    "        data['solution_generated_with_similar'] = generated_solutions_w_similar.get(ques_id)['generated_solution']\n",
    "        data['solution_generated_without_similar'] = generated_solutions_wo_similar.get(ques_id)['generated_solution']\n",
    "    else:\n",
    "        it_to_delete.append(ques_id)\n",
    "[dataset.pop(x) for x in it_to_delete]\n",
    "\n",
    "it_to_delete"
   ]
  },
  {
   "cell_type": "code",
   "execution_count": 4,
   "id": "f499c898",
   "metadata": {},
   "outputs": [],
   "source": [
    "dataset = np.asarray(dataset)"
   ]
  },
  {
   "cell_type": "code",
   "execution_count": 1,
   "id": "3f7edba7",
   "metadata": {},
   "outputs": [],
   "source": [
    "from datatypes import Solution, GeneratedSolution"
   ]
  },
  {
   "cell_type": "code",
   "execution_count": 62,
   "id": "5d5a5faa",
   "metadata": {},
   "outputs": [
    {
     "ename": "NameError",
     "evalue": "name 'np' is not defined",
     "output_type": "error",
     "traceback": [
      "\u001b[31m---------------------------------------------------------------------------\u001b[39m",
      "\u001b[31mNameError\u001b[39m                                 Traceback (most recent call last)",
      "\u001b[36mCell\u001b[39m\u001b[36m \u001b[39m\u001b[32mIn[62]\u001b[39m\u001b[32m, line 1\u001b[39m\n\u001b[32m----> \u001b[39m\u001b[32m1\u001b[39m \u001b[43mnp\u001b[49m.random.choice(dataset,\u001b[32m1\u001b[39m,replace=\u001b[38;5;28;01mFalse\u001b[39;00m).tolist()\n",
      "\u001b[31mNameError\u001b[39m: name 'np' is not defined"
     ]
    }
   ],
   "source": [
    "np.random.choice(dataset,1,replace=False).tolist()"
   ]
  },
  {
   "cell_type": "code",
   "execution_count": null,
   "id": "1971ca28",
   "metadata": {},
   "outputs": [],
   "source": [
    "from prompts import \n",
    "from datatypes import RelevanceSimilarity, RelevanceAlignment, EvaluationReport"
   ]
  },
  {
   "cell_type": "code",
   "execution_count": null,
   "id": "651fef7c",
   "metadata": {},
   "outputs": [],
   "source": [
    "ques1 = dataset[325]\n",
    "print(ques1['question_text'])\n",
    "print(ques1['similar_questions'])"
   ]
  },
  {
   "cell_type": "code",
   "execution_count": null,
   "id": "39190c08",
   "metadata": {},
   "outputs": [],
   "source": [
    "formatted_similar_questions = \"\\n\\n\".join([f\"### QUESTION {idx + 1}\\n- {sq['similar_question_text']}\" for idx,sq in enumerate(ques1['similar_questions'])])\n",
    "formatted_system_prompt = relevance_similarity_system_prompt.format(subject = ques1['subject'])\n",
    "formatted_user_prompt = relevance_user_prompt.format(main_question = ques1['question_text'], similar_questions = formatted_similar_questions)\n",
    "print(call_gemini(formatted_system_prompt, formatted_user_prompt, RelevanceSimilarity, model=\"gemini-2.5-flash\"))"
   ]
  },
  {
   "cell_type": "code",
   "execution_count": null,
   "id": "85ec9fee",
   "metadata": {},
   "outputs": [],
   "source": [
    "formatted_similar_questions = \"\\n\\n\".join([f\"### QUESTION {idx + 1}\\n- {sq['similar_question_text']}\\n### SOLUTION APPROACH {idx + 1}\\n- {sq['summarized_solution_approach']}\" for idx,sq in enumerate(ques1['similar_questions'])])\n",
    "formatted_system_prompt = relevance_alignment_system_prompt.format(subject = ques1['subject'])\n",
    "formatted_user_prompt = relevance_user_prompt.format(main_question = ques1['question_text'], similar_questions = formatted_similar_questions)\n",
    "print(call_gemini(formatted_system_prompt, formatted_user_prompt, EvaluationReport, model=\"gemini-2.5-flash\"))"
   ]
  },
  {
   "cell_type": "code",
   "execution_count": 10,
   "id": "ee1bb902",
   "metadata": {},
   "outputs": [],
   "source": [
    "import json\n",
    "with open('generated_solutions_wo_similar.json','r') as f:\n",
    "    solutions = json.load(f)\n",
    "with open('generated_solutions_w_similar.json','r') as f:\n",
    "    solutions_with_similar = json.load(f)\n",
    "\n",
    "with open('similar_question_data.json','r') as f:\n",
    "    dataset = json.load(f)"
   ]
  },
  {
   "cell_type": "code",
   "execution_count": null,
   "id": "7cac12b3",
   "metadata": {},
   "outputs": [],
   "source": [
    "print(solutions[0]['generated_solution'])"
   ]
  },
  {
   "cell_type": "code",
   "execution_count": null,
   "id": "4e23f461",
   "metadata": {},
   "outputs": [],
   "source": [
    "print(solutions_with_similar[0]['generated_solution'])"
   ]
  }
 ],
 "metadata": {
  "kernelspec": {
   "display_name": ".venv",
   "language": "python",
   "name": "python3"
  },
  "language_info": {
   "codemirror_mode": {
    "name": "ipython",
    "version": 3
   },
   "file_extension": ".py",
   "mimetype": "text/x-python",
   "name": "python",
   "nbconvert_exporter": "python",
   "pygments_lexer": "ipython3",
   "version": "3.13.2"
  }
 },
 "nbformat": 4,
 "nbformat_minor": 5
}
